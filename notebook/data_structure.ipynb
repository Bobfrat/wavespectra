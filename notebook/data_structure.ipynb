{
 "cells": [
  {
   "cell_type": "code",
   "execution_count": 1,
   "metadata": {},
   "outputs": [
    {
     "ename": "ModuleNotFoundError",
     "evalue": "No module named 'matplotlib'",
     "output_type": "error",
     "traceback": [
      "\u001b[0;31m---------------------------------------------------------------------------\u001b[0m",
      "\u001b[0;31mModuleNotFoundError\u001b[0m                       Traceback (most recent call last)",
      "\u001b[0;32m<ipython-input-1-50c293eb9965>\u001b[0m in \u001b[0;36m<module>\u001b[0;34m()\u001b[0m\n\u001b[0;32m----> 1\u001b[0;31m \u001b[0;32mimport\u001b[0m \u001b[0mmatplotlib\u001b[0m\u001b[0;34m\u001b[0m\u001b[0m\n\u001b[0m\u001b[1;32m      2\u001b[0m \u001b[0;31m# %matplotlib inline\u001b[0m\u001b[0;34m\u001b[0m\u001b[0;34m\u001b[0m\u001b[0m\n\u001b[1;32m      3\u001b[0m \u001b[0;31m# import os\u001b[0m\u001b[0;34m\u001b[0m\u001b[0;34m\u001b[0m\u001b[0m\n\u001b[1;32m      4\u001b[0m \u001b[0;31m# import datetime\u001b[0m\u001b[0;34m\u001b[0m\u001b[0;34m\u001b[0m\u001b[0m\n\u001b[1;32m      5\u001b[0m \u001b[0;31m# import numpy as np\u001b[0m\u001b[0;34m\u001b[0m\u001b[0;34m\u001b[0m\u001b[0m\n",
      "\u001b[0;31mModuleNotFoundError\u001b[0m: No module named 'matplotlib'"
     ]
    }
   ],
   "source": [
    "import matplotlib\n",
    "# %matplotlib inline\n",
    "# import os\n",
    "# import datetime\n",
    "# import numpy as np\n",
    "# import xarray as xr\n",
    "# import matplotlib.pyplot as plt\n",
    "\n",
    "# from wavespectra.specarray import SpecArray\n",
    "# from wavespectra.specdataset import SpecDataset\n",
    "\n",
    "# def print_header(string, string2='', nchar=80):\n",
    "#     print('\\n{}\\n{}:\\n{}\\n{}'.format(nchar*'=', string, nchar*'=', string2))\n"
   ]
  },
  {
   "cell_type": "markdown",
   "metadata": {},
   "source": [
    "## wavespectra is based on two main classes built on top of [xarray](http://xarray.pydata.org/en/stable/data-structures.html):\n",
    "\n",
    "- [SpecArray](https://github.com/metocean/wavespectra/blob/master/wavespectra/specarray.py): object based on **xarray**'s [DataArray](http://xarray.pydata.org/en/stable/generated/xarray.DataArray.html) to manipulate wave spectra and calculate spectral statistics.\n",
    "- [SpecDataset](https://github.com/metocean/wavespectra/blob/master/wavespectra/specdataset.py): wrapper around SpecArray with methods for saving spectra in different formats, based on **xarray**'s [Dataset](http://xarray.pydata.org/en/stable/generated/xarray.Dataset.html)\n"
   ]
  },
  {
   "cell_type": "code",
   "execution_count": 2,
   "metadata": {},
   "outputs": [
    {
     "ename": "NameError",
     "evalue": "name 'datetime' is not defined",
     "output_type": "error",
     "traceback": [
      "\u001b[0;31m---------------------------------------------------------------------------\u001b[0m",
      "\u001b[0;31mNameError\u001b[0m                                 Traceback (most recent call last)",
      "\u001b[0;32m<ipython-input-2-4a399b101f99>\u001b[0m in \u001b[0;36m<module>\u001b[0;34m()\u001b[0m\n\u001b[0;32m----> 1\u001b[0;31m coords = {'time': [datetime.datetime(2017,1,n+1) for n in range(2)],\n\u001b[0m\u001b[1;32m      2\u001b[0m           \u001b[0;34m'freq'\u001b[0m\u001b[0;34m:\u001b[0m \u001b[0;34m[\u001b[0m\u001b[0;36m0.05\u001b[0m\u001b[0;34m,\u001b[0m\u001b[0;36m0.1\u001b[0m\u001b[0;34m]\u001b[0m\u001b[0;34m,\u001b[0m\u001b[0;34m\u001b[0m\u001b[0m\n\u001b[1;32m      3\u001b[0m           'dir': np.arange(0,360,120)}\n\u001b[1;32m      4\u001b[0m efth = xr.DataArray(data=np.random.rand(2,2,3),\n\u001b[1;32m      5\u001b[0m                     \u001b[0mcoords\u001b[0m\u001b[0;34m=\u001b[0m\u001b[0mcoords\u001b[0m\u001b[0;34m,\u001b[0m\u001b[0;34m\u001b[0m\u001b[0m\n",
      "\u001b[0;32m<ipython-input-2-4a399b101f99>\u001b[0m in \u001b[0;36m<listcomp>\u001b[0;34m(.0)\u001b[0m\n\u001b[0;32m----> 1\u001b[0;31m coords = {'time': [datetime.datetime(2017,1,n+1) for n in range(2)],\n\u001b[0m\u001b[1;32m      2\u001b[0m           \u001b[0;34m'freq'\u001b[0m\u001b[0;34m:\u001b[0m \u001b[0;34m[\u001b[0m\u001b[0;36m0.05\u001b[0m\u001b[0;34m,\u001b[0m\u001b[0;36m0.1\u001b[0m\u001b[0;34m]\u001b[0m\u001b[0;34m,\u001b[0m\u001b[0;34m\u001b[0m\u001b[0m\n\u001b[1;32m      3\u001b[0m           'dir': np.arange(0,360,120)}\n\u001b[1;32m      4\u001b[0m efth = xr.DataArray(data=np.random.rand(2,2,3),\n\u001b[1;32m      5\u001b[0m                     \u001b[0mcoords\u001b[0m\u001b[0;34m=\u001b[0m\u001b[0mcoords\u001b[0m\u001b[0;34m,\u001b[0m\u001b[0;34m\u001b[0m\u001b[0m\n",
      "\u001b[0;31mNameError\u001b[0m: name 'datetime' is not defined"
     ]
    }
   ],
   "source": [
    "coords = {'time': [datetime.datetime(2017,1,n+1) for n in range(2)],\n",
    "          'freq': [0.05,0.1],\n",
    "          'dir': np.arange(0,360,120)}\n",
    "efth = xr.DataArray(data=np.random.rand(2,2,3),\n",
    "                    coords=coords,\n",
    "                    dims=('time','freq', 'dir'))\n",
    "\n",
    "# In [1]: efth\n",
    "# Out[1]:\n",
    "# <xarray.DataArray (time: 2, freq: 2, dir: 3)>\n",
    "# array([[[ 0.100607,  0.328229,  0.332708],\n",
    "#         [ 0.532   ,  0.665938,  0.177731]],\n",
    "\n",
    "#        [[ 0.469371,  0.002963,  0.627179],\n",
    "#         [ 0.004523,  0.682717,  0.09766 ]]])\n",
    "# Coordinates:\n",
    "#   * freq     (freq) float64 0.05 0.1\n",
    "#   * dir      (dir) int64 0 120 240\n",
    "#   * time     (time) datetime64[ns] 2017-01-01 2017-01-02\n",
    "\n",
    "# In [2]: efth.spec\n",
    "# Out[2]:\n",
    "# <SpecArray (time: 2, freq: 2, dir: 3)>\n",
    "# array([[[ 0.100607,  0.328229,  0.332708],\n",
    "#         [ 0.532   ,  0.665938,  0.177731]],\n",
    "\n",
    "#        [[ 0.469371,  0.002963,  0.627179],\n",
    "#         [ 0.004523,  0.682717,  0.09766 ]]])\n",
    "# Coordinates:\n",
    "#   * freq     (freq) float64 0.05 0.1\n",
    "#   * dir      (dir) int64 0 120 240\n",
    "#   * time     (time) datetime64[ns] 2017-01-01 2017-01-02\n",
    "\n",
    "# In [3]: efth.spec.hs()\n",
    "# Out[3]:\n",
    "# <xarray.DataArray 'hs' (time: 2)>\n",
    "# array([ 10.128485,   9.510618])\n",
    "# Coordinates:\n",
    "#   * time     (time) datetime64[ns] 2017-01-01 2017-01-02\n",
    "# Attributes:\n",
    "#     standard_name: sea_surface_wave_significant_height\n",
    "#     units: m"
   ]
  }
 ],
 "metadata": {
  "kernelspec": {
   "display_name": "Python 3",
   "language": "python",
   "name": "python3"
  },
  "language_info": {
   "codemirror_mode": {
    "name": "ipython",
    "version": 3
   },
   "file_extension": ".py",
   "mimetype": "text/x-python",
   "name": "python",
   "nbconvert_exporter": "python",
   "pygments_lexer": "ipython3",
   "version": "3.6.4"
  }
 },
 "nbformat": 4,
 "nbformat_minor": 2
}
